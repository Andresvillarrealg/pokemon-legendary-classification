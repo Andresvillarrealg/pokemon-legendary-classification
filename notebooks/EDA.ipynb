{
 "cells": [
  {
   "cell_type": "code",
   "execution_count": 139,
   "id": "d44a2436",
   "metadata": {},
   "outputs": [],
   "source": [
    "import pandas as pd\n",
    "import matplotlib.pyplot as plt\n",
    "import seaborn as sns"
   ]
  },
  {
   "cell_type": "markdown",
   "id": "47f25da9",
   "metadata": {},
   "source": [
    "### Leyendo los datos"
   ]
  },
  {
   "cell_type": "code",
   "execution_count": 140,
   "id": "f3680310",
   "metadata": {},
   "outputs": [],
   "source": [
    "df = pd.read_csv('data/Pokemon.csv')"
   ]
  },
  {
   "cell_type": "markdown",
   "id": "6bfe073b",
   "metadata": {},
   "source": [
    "### Primeras inspecciones de datos"
   ]
  },
  {
   "cell_type": "code",
   "execution_count": 141,
   "id": "f3117171",
   "metadata": {},
   "outputs": [
    {
     "data": {
      "application/vnd.microsoft.datawrangler.viewer.v0+json": {
       "columns": [
        {
         "name": "index",
         "rawType": "int64",
         "type": "integer"
        },
        {
         "name": "#",
         "rawType": "int64",
         "type": "integer"
        },
        {
         "name": "Name",
         "rawType": "object",
         "type": "string"
        },
        {
         "name": "Type 1",
         "rawType": "object",
         "type": "string"
        },
        {
         "name": "Type 2",
         "rawType": "object",
         "type": "unknown"
        },
        {
         "name": "Total",
         "rawType": "int64",
         "type": "integer"
        },
        {
         "name": "HP",
         "rawType": "int64",
         "type": "integer"
        },
        {
         "name": "Attack",
         "rawType": "int64",
         "type": "integer"
        },
        {
         "name": "Defense",
         "rawType": "int64",
         "type": "integer"
        },
        {
         "name": "Sp. Atk",
         "rawType": "int64",
         "type": "integer"
        },
        {
         "name": "Sp. Def",
         "rawType": "int64",
         "type": "integer"
        },
        {
         "name": "Speed",
         "rawType": "int64",
         "type": "integer"
        },
        {
         "name": "Generation",
         "rawType": "int64",
         "type": "integer"
        },
        {
         "name": "Legendary",
         "rawType": "bool",
         "type": "boolean"
        }
       ],
       "ref": "9d91a49f-0d91-44b8-baea-04b850f821e4",
       "rows": [
        [
         "0",
         "1",
         "Bulbasaur",
         "Grass",
         "Poison",
         "318",
         "45",
         "49",
         "49",
         "65",
         "65",
         "45",
         "1",
         "False"
        ],
        [
         "1",
         "2",
         "Ivysaur",
         "Grass",
         "Poison",
         "405",
         "60",
         "62",
         "63",
         "80",
         "80",
         "60",
         "1",
         "False"
        ],
        [
         "2",
         "3",
         "Venusaur",
         "Grass",
         "Poison",
         "525",
         "80",
         "82",
         "83",
         "100",
         "100",
         "80",
         "1",
         "False"
        ],
        [
         "3",
         "3",
         "VenusaurMega Venusaur",
         "Grass",
         "Poison",
         "625",
         "80",
         "100",
         "123",
         "122",
         "120",
         "80",
         "1",
         "False"
        ],
        [
         "4",
         "4",
         "Charmander",
         "Fire",
         null,
         "309",
         "39",
         "52",
         "43",
         "60",
         "50",
         "65",
         "1",
         "False"
        ]
       ],
       "shape": {
        "columns": 13,
        "rows": 5
       }
      },
      "text/html": [
       "<div>\n",
       "<style scoped>\n",
       "    .dataframe tbody tr th:only-of-type {\n",
       "        vertical-align: middle;\n",
       "    }\n",
       "\n",
       "    .dataframe tbody tr th {\n",
       "        vertical-align: top;\n",
       "    }\n",
       "\n",
       "    .dataframe thead th {\n",
       "        text-align: right;\n",
       "    }\n",
       "</style>\n",
       "<table border=\"1\" class=\"dataframe\">\n",
       "  <thead>\n",
       "    <tr style=\"text-align: right;\">\n",
       "      <th></th>\n",
       "      <th>#</th>\n",
       "      <th>Name</th>\n",
       "      <th>Type 1</th>\n",
       "      <th>Type 2</th>\n",
       "      <th>Total</th>\n",
       "      <th>HP</th>\n",
       "      <th>Attack</th>\n",
       "      <th>Defense</th>\n",
       "      <th>Sp. Atk</th>\n",
       "      <th>Sp. Def</th>\n",
       "      <th>Speed</th>\n",
       "      <th>Generation</th>\n",
       "      <th>Legendary</th>\n",
       "    </tr>\n",
       "  </thead>\n",
       "  <tbody>\n",
       "    <tr>\n",
       "      <th>0</th>\n",
       "      <td>1</td>\n",
       "      <td>Bulbasaur</td>\n",
       "      <td>Grass</td>\n",
       "      <td>Poison</td>\n",
       "      <td>318</td>\n",
       "      <td>45</td>\n",
       "      <td>49</td>\n",
       "      <td>49</td>\n",
       "      <td>65</td>\n",
       "      <td>65</td>\n",
       "      <td>45</td>\n",
       "      <td>1</td>\n",
       "      <td>False</td>\n",
       "    </tr>\n",
       "    <tr>\n",
       "      <th>1</th>\n",
       "      <td>2</td>\n",
       "      <td>Ivysaur</td>\n",
       "      <td>Grass</td>\n",
       "      <td>Poison</td>\n",
       "      <td>405</td>\n",
       "      <td>60</td>\n",
       "      <td>62</td>\n",
       "      <td>63</td>\n",
       "      <td>80</td>\n",
       "      <td>80</td>\n",
       "      <td>60</td>\n",
       "      <td>1</td>\n",
       "      <td>False</td>\n",
       "    </tr>\n",
       "    <tr>\n",
       "      <th>2</th>\n",
       "      <td>3</td>\n",
       "      <td>Venusaur</td>\n",
       "      <td>Grass</td>\n",
       "      <td>Poison</td>\n",
       "      <td>525</td>\n",
       "      <td>80</td>\n",
       "      <td>82</td>\n",
       "      <td>83</td>\n",
       "      <td>100</td>\n",
       "      <td>100</td>\n",
       "      <td>80</td>\n",
       "      <td>1</td>\n",
       "      <td>False</td>\n",
       "    </tr>\n",
       "    <tr>\n",
       "      <th>3</th>\n",
       "      <td>3</td>\n",
       "      <td>VenusaurMega Venusaur</td>\n",
       "      <td>Grass</td>\n",
       "      <td>Poison</td>\n",
       "      <td>625</td>\n",
       "      <td>80</td>\n",
       "      <td>100</td>\n",
       "      <td>123</td>\n",
       "      <td>122</td>\n",
       "      <td>120</td>\n",
       "      <td>80</td>\n",
       "      <td>1</td>\n",
       "      <td>False</td>\n",
       "    </tr>\n",
       "    <tr>\n",
       "      <th>4</th>\n",
       "      <td>4</td>\n",
       "      <td>Charmander</td>\n",
       "      <td>Fire</td>\n",
       "      <td>NaN</td>\n",
       "      <td>309</td>\n",
       "      <td>39</td>\n",
       "      <td>52</td>\n",
       "      <td>43</td>\n",
       "      <td>60</td>\n",
       "      <td>50</td>\n",
       "      <td>65</td>\n",
       "      <td>1</td>\n",
       "      <td>False</td>\n",
       "    </tr>\n",
       "  </tbody>\n",
       "</table>\n",
       "</div>"
      ],
      "text/plain": [
       "   #                   Name Type 1  Type 2  Total  HP  Attack  Defense  \\\n",
       "0  1              Bulbasaur  Grass  Poison    318  45      49       49   \n",
       "1  2                Ivysaur  Grass  Poison    405  60      62       63   \n",
       "2  3               Venusaur  Grass  Poison    525  80      82       83   \n",
       "3  3  VenusaurMega Venusaur  Grass  Poison    625  80     100      123   \n",
       "4  4             Charmander   Fire     NaN    309  39      52       43   \n",
       "\n",
       "   Sp. Atk  Sp. Def  Speed  Generation  Legendary  \n",
       "0       65       65     45           1      False  \n",
       "1       80       80     60           1      False  \n",
       "2      100      100     80           1      False  \n",
       "3      122      120     80           1      False  \n",
       "4       60       50     65           1      False  "
      ]
     },
     "execution_count": 141,
     "metadata": {},
     "output_type": "execute_result"
    }
   ],
   "source": [
    "df.head()"
   ]
  },
  {
   "cell_type": "code",
   "execution_count": 142,
   "id": "7f43808c",
   "metadata": {},
   "outputs": [
    {
     "name": "stdout",
     "output_type": "stream",
     "text": [
      "<class 'pandas.core.frame.DataFrame'>\n",
      "RangeIndex: 800 entries, 0 to 799\n",
      "Data columns (total 13 columns):\n",
      " #   Column      Non-Null Count  Dtype \n",
      "---  ------      --------------  ----- \n",
      " 0   #           800 non-null    int64 \n",
      " 1   Name        800 non-null    object\n",
      " 2   Type 1      800 non-null    object\n",
      " 3   Type 2      414 non-null    object\n",
      " 4   Total       800 non-null    int64 \n",
      " 5   HP          800 non-null    int64 \n",
      " 6   Attack      800 non-null    int64 \n",
      " 7   Defense     800 non-null    int64 \n",
      " 8   Sp. Atk     800 non-null    int64 \n",
      " 9   Sp. Def     800 non-null    int64 \n",
      " 10  Speed       800 non-null    int64 \n",
      " 11  Generation  800 non-null    int64 \n",
      " 12  Legendary   800 non-null    bool  \n",
      "dtypes: bool(1), int64(9), object(3)\n",
      "memory usage: 75.9+ KB\n"
     ]
    }
   ],
   "source": [
    "df.info()"
   ]
  },
  {
   "cell_type": "code",
   "execution_count": 143,
   "id": "4ed26831",
   "metadata": {},
   "outputs": [
    {
     "data": {
      "application/vnd.microsoft.datawrangler.viewer.v0+json": {
       "columns": [
        {
         "name": "index",
         "rawType": "object",
         "type": "string"
        },
        {
         "name": "#",
         "rawType": "float64",
         "type": "float"
        },
        {
         "name": "Total",
         "rawType": "float64",
         "type": "float"
        },
        {
         "name": "HP",
         "rawType": "float64",
         "type": "float"
        },
        {
         "name": "Attack",
         "rawType": "float64",
         "type": "float"
        },
        {
         "name": "Defense",
         "rawType": "float64",
         "type": "float"
        },
        {
         "name": "Sp. Atk",
         "rawType": "float64",
         "type": "float"
        },
        {
         "name": "Sp. Def",
         "rawType": "float64",
         "type": "float"
        },
        {
         "name": "Speed",
         "rawType": "float64",
         "type": "float"
        },
        {
         "name": "Generation",
         "rawType": "float64",
         "type": "float"
        }
       ],
       "ref": "33bf6ade-6f92-40a9-94b0-3b86baf89c34",
       "rows": [
        [
         "count",
         "800.0",
         "800.0",
         "800.0",
         "800.0",
         "800.0",
         "800.0",
         "800.0",
         "800.0",
         "800.0"
        ],
        [
         "mean",
         "362.81375",
         "435.1025",
         "69.25875",
         "79.00125",
         "73.8425",
         "72.82",
         "71.9025",
         "68.2775",
         "3.32375"
        ],
        [
         "std",
         "208.34379756406662",
         "119.96303975551899",
         "25.53466903233207",
         "32.45736586949845",
         "31.183500559332934",
         "32.7222941688016",
         "27.82891579711746",
         "29.060473717161464",
         "1.6612904004849451"
        ],
        [
         "min",
         "1.0",
         "180.0",
         "1.0",
         "5.0",
         "5.0",
         "10.0",
         "20.0",
         "5.0",
         "1.0"
        ],
        [
         "25%",
         "184.75",
         "330.0",
         "50.0",
         "55.0",
         "50.0",
         "49.75",
         "50.0",
         "45.0",
         "2.0"
        ],
        [
         "50%",
         "364.5",
         "450.0",
         "65.0",
         "75.0",
         "70.0",
         "65.0",
         "70.0",
         "65.0",
         "3.0"
        ],
        [
         "75%",
         "539.25",
         "515.0",
         "80.0",
         "100.0",
         "90.0",
         "95.0",
         "90.0",
         "90.0",
         "5.0"
        ],
        [
         "max",
         "721.0",
         "780.0",
         "255.0",
         "190.0",
         "230.0",
         "194.0",
         "230.0",
         "180.0",
         "6.0"
        ]
       ],
       "shape": {
        "columns": 9,
        "rows": 8
       }
      },
      "text/html": [
       "<div>\n",
       "<style scoped>\n",
       "    .dataframe tbody tr th:only-of-type {\n",
       "        vertical-align: middle;\n",
       "    }\n",
       "\n",
       "    .dataframe tbody tr th {\n",
       "        vertical-align: top;\n",
       "    }\n",
       "\n",
       "    .dataframe thead th {\n",
       "        text-align: right;\n",
       "    }\n",
       "</style>\n",
       "<table border=\"1\" class=\"dataframe\">\n",
       "  <thead>\n",
       "    <tr style=\"text-align: right;\">\n",
       "      <th></th>\n",
       "      <th>#</th>\n",
       "      <th>Total</th>\n",
       "      <th>HP</th>\n",
       "      <th>Attack</th>\n",
       "      <th>Defense</th>\n",
       "      <th>Sp. Atk</th>\n",
       "      <th>Sp. Def</th>\n",
       "      <th>Speed</th>\n",
       "      <th>Generation</th>\n",
       "    </tr>\n",
       "  </thead>\n",
       "  <tbody>\n",
       "    <tr>\n",
       "      <th>count</th>\n",
       "      <td>800.000000</td>\n",
       "      <td>800.00000</td>\n",
       "      <td>800.000000</td>\n",
       "      <td>800.000000</td>\n",
       "      <td>800.000000</td>\n",
       "      <td>800.000000</td>\n",
       "      <td>800.000000</td>\n",
       "      <td>800.000000</td>\n",
       "      <td>800.00000</td>\n",
       "    </tr>\n",
       "    <tr>\n",
       "      <th>mean</th>\n",
       "      <td>362.813750</td>\n",
       "      <td>435.10250</td>\n",
       "      <td>69.258750</td>\n",
       "      <td>79.001250</td>\n",
       "      <td>73.842500</td>\n",
       "      <td>72.820000</td>\n",
       "      <td>71.902500</td>\n",
       "      <td>68.277500</td>\n",
       "      <td>3.32375</td>\n",
       "    </tr>\n",
       "    <tr>\n",
       "      <th>std</th>\n",
       "      <td>208.343798</td>\n",
       "      <td>119.96304</td>\n",
       "      <td>25.534669</td>\n",
       "      <td>32.457366</td>\n",
       "      <td>31.183501</td>\n",
       "      <td>32.722294</td>\n",
       "      <td>27.828916</td>\n",
       "      <td>29.060474</td>\n",
       "      <td>1.66129</td>\n",
       "    </tr>\n",
       "    <tr>\n",
       "      <th>min</th>\n",
       "      <td>1.000000</td>\n",
       "      <td>180.00000</td>\n",
       "      <td>1.000000</td>\n",
       "      <td>5.000000</td>\n",
       "      <td>5.000000</td>\n",
       "      <td>10.000000</td>\n",
       "      <td>20.000000</td>\n",
       "      <td>5.000000</td>\n",
       "      <td>1.00000</td>\n",
       "    </tr>\n",
       "    <tr>\n",
       "      <th>25%</th>\n",
       "      <td>184.750000</td>\n",
       "      <td>330.00000</td>\n",
       "      <td>50.000000</td>\n",
       "      <td>55.000000</td>\n",
       "      <td>50.000000</td>\n",
       "      <td>49.750000</td>\n",
       "      <td>50.000000</td>\n",
       "      <td>45.000000</td>\n",
       "      <td>2.00000</td>\n",
       "    </tr>\n",
       "    <tr>\n",
       "      <th>50%</th>\n",
       "      <td>364.500000</td>\n",
       "      <td>450.00000</td>\n",
       "      <td>65.000000</td>\n",
       "      <td>75.000000</td>\n",
       "      <td>70.000000</td>\n",
       "      <td>65.000000</td>\n",
       "      <td>70.000000</td>\n",
       "      <td>65.000000</td>\n",
       "      <td>3.00000</td>\n",
       "    </tr>\n",
       "    <tr>\n",
       "      <th>75%</th>\n",
       "      <td>539.250000</td>\n",
       "      <td>515.00000</td>\n",
       "      <td>80.000000</td>\n",
       "      <td>100.000000</td>\n",
       "      <td>90.000000</td>\n",
       "      <td>95.000000</td>\n",
       "      <td>90.000000</td>\n",
       "      <td>90.000000</td>\n",
       "      <td>5.00000</td>\n",
       "    </tr>\n",
       "    <tr>\n",
       "      <th>max</th>\n",
       "      <td>721.000000</td>\n",
       "      <td>780.00000</td>\n",
       "      <td>255.000000</td>\n",
       "      <td>190.000000</td>\n",
       "      <td>230.000000</td>\n",
       "      <td>194.000000</td>\n",
       "      <td>230.000000</td>\n",
       "      <td>180.000000</td>\n",
       "      <td>6.00000</td>\n",
       "    </tr>\n",
       "  </tbody>\n",
       "</table>\n",
       "</div>"
      ],
      "text/plain": [
       "                #      Total          HP      Attack     Defense     Sp. Atk  \\\n",
       "count  800.000000  800.00000  800.000000  800.000000  800.000000  800.000000   \n",
       "mean   362.813750  435.10250   69.258750   79.001250   73.842500   72.820000   \n",
       "std    208.343798  119.96304   25.534669   32.457366   31.183501   32.722294   \n",
       "min      1.000000  180.00000    1.000000    5.000000    5.000000   10.000000   \n",
       "25%    184.750000  330.00000   50.000000   55.000000   50.000000   49.750000   \n",
       "50%    364.500000  450.00000   65.000000   75.000000   70.000000   65.000000   \n",
       "75%    539.250000  515.00000   80.000000  100.000000   90.000000   95.000000   \n",
       "max    721.000000  780.00000  255.000000  190.000000  230.000000  194.000000   \n",
       "\n",
       "          Sp. Def       Speed  Generation  \n",
       "count  800.000000  800.000000   800.00000  \n",
       "mean    71.902500   68.277500     3.32375  \n",
       "std     27.828916   29.060474     1.66129  \n",
       "min     20.000000    5.000000     1.00000  \n",
       "25%     50.000000   45.000000     2.00000  \n",
       "50%     70.000000   65.000000     3.00000  \n",
       "75%     90.000000   90.000000     5.00000  \n",
       "max    230.000000  180.000000     6.00000  "
      ]
     },
     "execution_count": 143,
     "metadata": {},
     "output_type": "execute_result"
    }
   ],
   "source": [
    "df.describe()"
   ]
  },
  {
   "cell_type": "markdown",
   "id": "7c363e9b",
   "metadata": {},
   "source": [
    "### Transformación de columnas"
   ]
  },
  {
   "cell_type": "code",
   "execution_count": 144,
   "id": "ba93869b",
   "metadata": {},
   "outputs": [],
   "source": [
    "# Eliminamos variantes de pokemones como formas alternas o mega evoluciones \n",
    "df.columns = df.columns.str.strip()\n",
    "\n",
    "formas_alternas = [\n",
    "    'Mega', 'Primal', 'Attack', 'Defense', 'Speed', 'Sky', 'Land', 'Origin', \n",
    "    'Altered', 'Sandy', 'Trash', 'Therian', 'Black', 'White', 'Resolute', \n",
    "    'Pirouette', 'Ash', 'Alola', 'Galar', 'Hisuian', 'Paldea', 'Paldean', 'Totem', 'Forme',\n",
    "    'Cosplay', 'Starter', 'Partner', 'Eternal', 'Crowned', 'Gmax', 'Ultra', 'Dusk', 'Dawn', 'Midnight', 'Midday', 'School', 'Busted', 'Unbound', 'Small', 'Large', 'Super', 'Average', 'East', 'West', 'Heat', 'Wash', 'Frost', 'Fan', 'Mow', 'Origin', 'Attack', 'Defence', 'Speed', 'Sunshine', 'Rainy', 'Snowy', 'Sandy', 'Trash', 'Therian', 'Incarnate', 'Resolute', 'Pirouette', 'Black', 'White', 'Active', 'Complete', '50%', '10%', 'School', 'Solo', 'Baile', 'Pom-Pom', 'Pa’u', 'Sensu'\n",
    "]\n",
    "\n",
    "mask = ~df['Name'].str.contains('|'.join(formas_alternas), case=False, regex=True)\n",
    "df = df[mask].copy()\n",
    "\n",
    "df = df.drop_duplicates(subset='Name', keep='first')\n",
    "\n",
    "df.reset_index(drop=True, inplace=True)"
   ]
  },
  {
   "cell_type": "code",
   "execution_count": 145,
   "id": "b48fbbfc",
   "metadata": {},
   "outputs": [],
   "source": [
    "# Pasar datos de la columna Legendaria a númerico\n",
    "df['Legendary'] = df['Legendary'].astype(int)"
   ]
  },
  {
   "cell_type": "code",
   "execution_count": 146,
   "id": "6d7436b8",
   "metadata": {},
   "outputs": [],
   "source": [
    "# Agregar columna que diga si el pokemon tiene dos tipos\n",
    "df['HasTwoTypes'] = df['Type 2'].notnull().astype(int)"
   ]
  },
  {
   "cell_type": "markdown",
   "id": "852296d9",
   "metadata": {},
   "source": [
    "### Tipos de datos y conteos"
   ]
  },
  {
   "cell_type": "code",
   "execution_count": 147,
   "id": "ec7bccd6",
   "metadata": {},
   "outputs": [
    {
     "data": {
      "application/vnd.microsoft.datawrangler.viewer.v0+json": {
       "columns": [
        {
         "name": "Legendary",
         "rawType": "int32",
         "type": "integer"
        },
        {
         "name": "count",
         "rawType": "int64",
         "type": "integer"
        }
       ],
       "ref": "5efb812d-433c-49ea-924d-b7caf42fcb2a",
       "rows": [
        [
         "0",
         "662"
        ],
        [
         "1",
         "38"
        ]
       ],
       "shape": {
        "columns": 1,
        "rows": 2
       }
      },
      "text/plain": [
       "Legendary\n",
       "0    662\n",
       "1     38\n",
       "Name: count, dtype: int64"
      ]
     },
     "execution_count": 147,
     "metadata": {},
     "output_type": "execute_result"
    }
   ],
   "source": [
    "# Conteo de Pokemons Legendarios\n",
    "df['Legendary'].value_counts()"
   ]
  },
  {
   "cell_type": "code",
   "execution_count": 148,
   "id": "eef2900c",
   "metadata": {},
   "outputs": [
    {
     "name": "stdout",
     "output_type": "stream",
     "text": [
      "Generation\n",
      "1    149\n",
      "5    149\n",
      "3    132\n",
      "4    102\n",
      "2     99\n",
      "6     69\n",
      "Name: count, dtype: int64\n"
     ]
    },
    {
     "data": {
      "text/plain": [
       "Text(0.5, 0, 'Generation')"
      ]
     },
     "execution_count": 148,
     "metadata": {},
     "output_type": "execute_result"
    },
    {
     "data": {
      "image/png": "[encoded data removed]",
      "text/plain": [
       "<Figure size 640x480 with 1 Axes>"
      ]
     },
     "metadata": {},
     "output_type": "display_data"
    }
   ],
   "source": [
    "# Conteo de Pokemons por Generación\n",
    "print(df['Generation'].value_counts())\n",
    "df['Generation'].value_counts().plot(kind='bar', title='Count of Pokemons by Generation')\n",
    "plt.xlabel('Generation')"
   ]
  },
  {
   "cell_type": "code",
   "execution_count": 160,
   "id": "f74a5263",
   "metadata": {},
   "outputs": [
    {
     "data": {
      "application/vnd.microsoft.datawrangler.viewer.v0+json": {
       "columns": [
        {
         "name": "Type_combined",
         "rawType": "object",
         "type": "string"
        },
        {
         "name": "count",
         "rawType": "int64",
         "type": "integer"
        }
       ],
       "ref": "5f899be7-7702-4b66-97a5-885cdc41222e",
       "rows": [
        [
         "Normal / ",
         "59"
        ],
        [
         "Water / ",
         "57"
        ],
        [
         "Psychic / ",
         "31"
        ],
        [
         "Grass / ",
         "31"
        ],
        [
         "Electric / ",
         "26"
        ],
        [
         "Fire / ",
         "26"
        ],
        [
         "Normal / Flying",
         "23"
        ],
        [
         "Fighting / ",
         "20"
        ],
        [
         "Bug / ",
         "17"
        ],
        [
         "Poison / ",
         "15"
        ],
        [
         "Fairy / ",
         "15"
        ],
        [
         "Grass / Poison",
         "14"
        ],
        [
         "Bug / Flying",
         "12"
        ],
        [
         "Ground / ",
         "12"
        ],
        [
         "Ice / ",
         "12"
        ],
        [
         "Bug / Poison",
         "11"
        ],
        [
         "Dragon / ",
         "11"
        ],
        [
         "Dark / ",
         "9"
        ],
        [
         "Rock / ",
         "9"
        ],
        [
         "Water / Ground",
         "8"
        ],
        [
         "Ghost / ",
         "7"
        ],
        [
         "Water / Flying",
         "7"
        ],
        [
         "Fire / Fighting",
         "6"
        ],
        [
         "Rock / Ground",
         "6"
        ],
        [
         "Rock / Water",
         "6"
        ],
        [
         "Steel / Psychic",
         "6"
        ],
        [
         "Psychic / Flying",
         "6"
        ],
        [
         "Bug / Grass",
         "6"
        ],
        [
         "Bug / Steel",
         "5"
        ],
        [
         "Dark / Flying",
         "5"
        ],
        [
         "Psychic / Fairy",
         "5"
        ],
        [
         "Fire / Flying",
         "5"
        ],
        [
         "Water / Dark",
         "4"
        ],
        [
         "Grass / Flying",
         "4"
        ],
        [
         "Steel / ",
         "4"
        ],
        [
         "Dragon / Flying",
         "4"
        ],
        [
         "Water / Rock",
         "4"
        ],
        [
         "Water / Psychic",
         "4"
        ],
        [
         "Normal / Fairy",
         "4"
        ],
        [
         "Electric / Steel",
         "3"
        ],
        [
         "Rock / Steel",
         "3"
        ],
        [
         "Ice / Ground",
         "3"
        ],
        [
         "Poison / Dark",
         "3"
        ],
        [
         "Dark / Dragon",
         "3"
        ],
        [
         "Water / Poison",
         "3"
        ],
        [
         "Bug / Rock",
         "3"
        ],
        [
         "Ground / Dark",
         "3"
        ],
        [
         "Water / Grass",
         "3"
        ],
        [
         "Steel / Rock",
         "3"
        ],
        [
         "Dragon / Ground",
         "3"
        ]
       ],
       "shape": {
        "columns": 1,
        "rows": 140
       }
      },
      "text/plain": [
       "Type_combined\n",
       "Normal /            59\n",
       "Water /             57\n",
       "Psychic /           31\n",
       "Grass /             31\n",
       "Electric /          26\n",
       "                    ..\n",
       "Ice / Ghost          1\n",
       "Electric / Ghost     1\n",
       "Steel / Dragon       1\n",
       "Psychic / Fire       1\n",
       "Fire / Water         1\n",
       "Name: count, Length: 140, dtype: int64"
      ]
     },
     "execution_count": 160,
     "metadata": {},
     "output_type": "execute_result"
    }
   ],
   "source": [
    "# Creamos nueva columna para juntar tipo 1 y tipo 2\n",
    "df['Type_combined'] = df['Type 1'] + ' / ' + df['Type 2'].fillna('')\n",
    "# Conteo de tipos combinados\n",
    "df['Type_combined'].value_counts()"
   ]
  },
  {
   "cell_type": "code",
   "execution_count": 150,
   "id": "1621acec",
   "metadata": {},
   "outputs": [
    {
     "data": {
      "application/vnd.microsoft.datawrangler.viewer.v0+json": {
       "columns": [
        {
         "name": "Type_combined",
         "rawType": "object",
         "type": "string"
        },
        {
         "name": "count",
         "rawType": "int64",
         "type": "integer"
        }
       ],
       "ref": "e3a50bfb-bc90-4c40-b31a-19880bf229a9",
       "rows": [
        [
         "Psychic / ",
         "4"
        ],
        [
         "Normal / ",
         "2"
        ],
        [
         "Dragon / Psychic",
         "2"
        ],
        [
         "Fire / Flying",
         "2"
        ],
        [
         "Water / ",
         "2"
        ],
        [
         "Psychic / Fire",
         "1"
        ],
        [
         "Steel / Fighting",
         "1"
        ],
        [
         "Rock / Fighting",
         "1"
        ],
        [
         "Grass / Fighting",
         "1"
        ],
        [
         "Dragon / Fire",
         "1"
        ],
        [
         "Ice / Flying",
         "1"
        ],
        [
         "Dragon / Electric",
         "1"
        ],
        [
         "Dark / ",
         "1"
        ],
        [
         "Fairy / ",
         "1"
        ],
        [
         "Dark / Flying",
         "1"
        ],
        [
         "Rock / Fairy",
         "1"
        ],
        [
         "Psychic / Ghost",
         "1"
        ],
        [
         "Dragon / Ice",
         "1"
        ],
        [
         "Steel / Dragon",
         "1"
        ],
        [
         "Water / Dragon",
         "1"
        ],
        [
         "Electric / Flying",
         "1"
        ],
        [
         "Steel / Psychic",
         "1"
        ],
        [
         "Dragon / Flying",
         "1"
        ],
        [
         "Ground / ",
         "1"
        ],
        [
         "Steel / ",
         "1"
        ],
        [
         "Ice / ",
         "1"
        ],
        [
         "Rock / ",
         "1"
        ],
        [
         "Psychic / Flying",
         "1"
        ],
        [
         "Fire / ",
         "1"
        ],
        [
         "Electric / ",
         "1"
        ],
        [
         "Fire / Water",
         "1"
        ]
       ],
       "shape": {
        "columns": 1,
        "rows": 31
       }
      },
      "text/plain": [
       "Type_combined\n",
       "Psychic /            4\n",
       "Normal /             2\n",
       "Dragon / Psychic     2\n",
       "Fire / Flying        2\n",
       "Water /              2\n",
       "Psychic / Fire       1\n",
       "Steel / Fighting     1\n",
       "Rock / Fighting      1\n",
       "Grass / Fighting     1\n",
       "Dragon / Fire        1\n",
       "Ice / Flying         1\n",
       "Dragon / Electric    1\n",
       "Dark /               1\n",
       "Fairy /              1\n",
       "Dark / Flying        1\n",
       "Rock / Fairy         1\n",
       "Psychic / Ghost      1\n",
       "Dragon / Ice         1\n",
       "Steel / Dragon       1\n",
       "Water / Dragon       1\n",
       "Electric / Flying    1\n",
       "Steel / Psychic      1\n",
       "Dragon / Flying      1\n",
       "Ground /             1\n",
       "Steel /              1\n",
       "Ice /                1\n",
       "Rock /               1\n",
       "Psychic / Flying     1\n",
       "Fire /               1\n",
       "Electric /           1\n",
       "Fire / Water         1\n",
       "Name: count, dtype: int64"
      ]
     },
     "execution_count": 150,
     "metadata": {},
     "output_type": "execute_result"
    }
   ],
   "source": [
    "# De que tipos son los Pokemons Legendarios\n",
    "legendary_types = df[df['Legendary'] == 1]['Type_combined'].value_counts()\n",
    "legendary_types"
   ]
  },
  {
   "cell_type": "markdown",
   "id": "cafd6196",
   "metadata": {},
   "source": [
    "### Distribución de Stats"
   ]
  },
  {
   "cell_type": "code",
   "execution_count": 151,
   "id": "c96d1a72",
   "metadata": {},
   "outputs": [
    {
     "data": {
      "image/png": "[encoded data removed]",
      "text/plain": [
       "<Figure size 1500x1000 with 7 Axes>"
      ]
     },
     "metadata": {},
     "output_type": "display_data"
    }
   ],
   "source": [
    "# Histogramas de stats\n",
    "stats = ['HP', 'Attack', 'Defense', 'Sp. Atk', 'Sp. Def', 'Speed', 'Total']\n",
    "plt.figure(figsize=(15,10))\n",
    "for i, stat in enumerate(stats):\n",
    "    plt.subplot(2, 4, i+1)\n",
    "    sns.histplot(df[stat], bins=20, kde=True)\n",
    "    plt.title(f'Distribución de {stat}')\n",
    "plt.tight_layout()\n",
    "plt.show()\n"
   ]
  },
  {
   "cell_type": "code",
   "execution_count": 152,
   "id": "42c90873",
   "metadata": {},
   "outputs": [
    {
     "data": {
      "image/png": "[encoded data removed]",
      "text/plain": [
       "<Figure size 1500x1000 with 7 Axes>"
      ]
     },
     "metadata": {},
     "output_type": "display_data"
    }
   ],
   "source": [
    "# Boxplots de stats por tipo legendario\n",
    "plt.figure(figsize=(15,10))\n",
    "for i, stat in enumerate(stats):\n",
    "    plt.subplot(2, 4, i+1)\n",
    "    sns.boxplot(data=df, x='Legendary', y=stat)\n",
    "    plt.title(f'{stat} por Tipo Legendario')\n",
    "plt.tight_layout()\n",
    "plt.show()\n"
   ]
  },
  {
   "cell_type": "markdown",
   "id": "de3ab9ef",
   "metadata": {},
   "source": [
    "### Proporción de legendarios por generación"
   ]
  },
  {
   "cell_type": "code",
   "execution_count": 153,
   "id": "3765b588",
   "metadata": {},
   "outputs": [
    {
     "data": {
      "image/png": "[encoded data removed]",
      "text/plain": [
       "<Figure size 640x480 with 1 Axes>"
      ]
     },
     "metadata": {},
     "output_type": "display_data"
    }
   ],
   "source": [
    "prop_legendary_by_gen = df.groupby('Generation')['Legendary'].mean()\n",
    "prop_legendary_by_gen.plot(kind='bar')\n",
    "plt.title('Proporción de legendarios por generación')\n",
    "plt.ylabel('Proporción')\n",
    "plt.xlabel('Generación')\n",
    "plt.show()\n"
   ]
  },
  {
   "cell_type": "markdown",
   "id": "edbc1db6",
   "metadata": {},
   "source": [
    "### Mapa de correlación entre stats"
   ]
  },
  {
   "cell_type": "code",
   "execution_count": 154,
   "id": "82ff9726",
   "metadata": {},
   "outputs": [
    {
     "data": {
      "image/png": "[encoded data removed]",
      "text/plain": [
       "<Figure size 800x600 with 2 Axes>"
      ]
     },
     "metadata": {},
     "output_type": "display_data"
    }
   ],
   "source": [
    "corr = df[stats].corr()\n",
    "plt.figure(figsize=(8,6))\n",
    "sns.heatmap(corr, annot=True, cmap='coolwarm')\n",
    "plt.title('Mapa de calor de correlaciones entre stats')\n",
    "plt.show()\n"
   ]
  },
  {
   "cell_type": "markdown",
   "id": "61f03c2a",
   "metadata": {},
   "source": [
    "### Outliers"
   ]
  },
  {
   "cell_type": "code",
   "execution_count": 155,
   "id": "b7f1db20",
   "metadata": {},
   "outputs": [
    {
     "data": {
      "application/vnd.microsoft.datawrangler.viewer.v0+json": {
       "columns": [
        {
         "name": "index",
         "rawType": "int64",
         "type": "integer"
        },
        {
         "name": "Name",
         "rawType": "object",
         "type": "string"
        },
        {
         "name": "Total",
         "rawType": "int64",
         "type": "integer"
        },
        {
         "name": "Legendary",
         "rawType": "int32",
         "type": "integer"
        }
       ],
       "ref": "57b238c6-c4f9-4f08-a2cf-0a6d2aeb604a",
       "rows": [
        [
         "481",
         "Arceus",
         "720",
         "1"
        ],
        [
         "147",
         "Mewtwo",
         "680",
         "1"
        ],
        [
         "474",
         "Dialga",
         "680",
         "1"
        ],
        [
         "628",
         "Zekrom",
         "680",
         "1"
        ],
        [
         "627",
         "Reshiram",
         "680",
         "1"
        ],
        [
         "696",
         "Yveltal",
         "680",
         "1"
        ],
        [
         "695",
         "Xerneas",
         "680",
         "1"
        ],
        [
         "378",
         "Rayquaza",
         "680",
         "1"
        ],
        [
         "475",
         "Palkia",
         "680",
         "1"
        ],
        [
         "246",
         "Ho-oh",
         "680",
         "1"
        ],
        [
         "245",
         "Lugia",
         "680",
         "1"
        ],
        [
         "285",
         "Slaking",
         "670",
         "0"
        ],
        [
         "476",
         "Regigigas",
         "670",
         "1"
        ],
        [
         "376",
         "Kyogre",
         "670",
         "1"
        ],
        [
         "377",
         "Groudon",
         "670",
         "1"
        ],
        [
         "629",
         "Kyurem",
         "660",
         "1"
        ],
        [
         "630",
         "Genesect",
         "600",
         "0"
        ],
        [
         "438",
         "Garchomp",
         "600",
         "0"
        ],
        [
         "244",
         "Tyranitar",
         "600",
         "0"
        ],
        [
         "247",
         "Celebi",
         "600",
         "0"
        ],
        [
         "375",
         "Latios",
         "600",
         "1"
        ],
        [
         "477",
         "Cresselia",
         "600",
         "0"
        ],
        [
         "479",
         "Manaphy",
         "600",
         "0"
        ],
        [
         "480",
         "Darkrai",
         "600",
         "1"
        ],
        [
         "374",
         "Latias",
         "600",
         "1"
        ],
        [
         "482",
         "Victini",
         "600",
         "1"
        ],
        [
         "148",
         "Mew",
         "600",
         "0"
        ],
        [
         "146",
         "Dragonite",
         "600",
         "0"
        ],
        [
         "621",
         "Hydreigon",
         "600",
         "0"
        ],
        [
         "370",
         "Metagross",
         "600",
         "0"
        ],
        [
         "367",
         "Salamence",
         "600",
         "0"
        ],
        [
         "379",
         "Jirachi",
         "600",
         "1"
        ],
        [
         "699",
         "Volcanion",
         "600",
         "1"
        ],
        [
         "698",
         "HoopaHoopa Confined",
         "600",
         "1"
        ],
        [
         "697",
         "Diancie",
         "600",
         "1"
        ],
        [
         "687",
         "Goodra",
         "600",
         "0"
        ],
        [
         "473",
         "Azelf",
         "580",
         "1"
        ],
        [
         "371",
         "Regirock",
         "580",
         "1"
        ],
        [
         "624",
         "Cobalion",
         "580",
         "1"
        ],
        [
         "625",
         "Terrakion",
         "580",
         "1"
        ],
        [
         "626",
         "Virizion",
         "580",
         "1"
        ],
        [
         "372",
         "Regice",
         "580",
         "1"
        ],
        [
         "373",
         "Registeel",
         "580",
         "1"
        ],
        [
         "472",
         "Mesprit",
         "580",
         "1"
        ],
        [
         "241",
         "Suicune",
         "580",
         "1"
        ],
        [
         "240",
         "Entei",
         "580",
         "1"
        ],
        [
         "239",
         "Raikou",
         "580",
         "1"
        ],
        [
         "141",
         "Articuno",
         "580",
         "1"
        ],
        [
         "142",
         "Zapdos",
         "580",
         "1"
        ],
        [
         "143",
         "Moltres",
         "580",
         "1"
        ]
       ],
       "shape": {
        "columns": 3,
        "rows": 700
       }
      },
      "text/html": [
       "<div>\n",
       "<style scoped>\n",
       "    .dataframe tbody tr th:only-of-type {\n",
       "        vertical-align: middle;\n",
       "    }\n",
       "\n",
       "    .dataframe tbody tr th {\n",
       "        vertical-align: top;\n",
       "    }\n",
       "\n",
       "    .dataframe thead th {\n",
       "        text-align: right;\n",
       "    }\n",
       "</style>\n",
       "<table border=\"1\" class=\"dataframe\">\n",
       "  <thead>\n",
       "    <tr style=\"text-align: right;\">\n",
       "      <th></th>\n",
       "      <th>Name</th>\n",
       "      <th>Total</th>\n",
       "      <th>Legendary</th>\n",
       "    </tr>\n",
       "  </thead>\n",
       "  <tbody>\n",
       "    <tr>\n",
       "      <th>481</th>\n",
       "      <td>Arceus</td>\n",
       "      <td>720</td>\n",
       "      <td>1</td>\n",
       "    </tr>\n",
       "    <tr>\n",
       "      <th>147</th>\n",
       "      <td>Mewtwo</td>\n",
       "      <td>680</td>\n",
       "      <td>1</td>\n",
       "    </tr>\n",
       "    <tr>\n",
       "      <th>474</th>\n",
       "      <td>Dialga</td>\n",
       "      <td>680</td>\n",
       "      <td>1</td>\n",
       "    </tr>\n",
       "    <tr>\n",
       "      <th>628</th>\n",
       "      <td>Zekrom</td>\n",
       "      <td>680</td>\n",
       "      <td>1</td>\n",
       "    </tr>\n",
       "    <tr>\n",
       "      <th>627</th>\n",
       "      <td>Reshiram</td>\n",
       "      <td>680</td>\n",
       "      <td>1</td>\n",
       "    </tr>\n",
       "    <tr>\n",
       "      <th>...</th>\n",
       "      <td>...</td>\n",
       "      <td>...</td>\n",
       "      <td>...</td>\n",
       "    </tr>\n",
       "    <tr>\n",
       "      <th>9</th>\n",
       "      <td>Caterpie</td>\n",
       "      <td>195</td>\n",
       "      <td>0</td>\n",
       "    </tr>\n",
       "    <tr>\n",
       "      <th>261</th>\n",
       "      <td>Wurmple</td>\n",
       "      <td>195</td>\n",
       "      <td>0</td>\n",
       "    </tr>\n",
       "    <tr>\n",
       "      <th>394</th>\n",
       "      <td>Kricketot</td>\n",
       "      <td>194</td>\n",
       "      <td>0</td>\n",
       "    </tr>\n",
       "    <tr>\n",
       "      <th>294</th>\n",
       "      <td>Azurill</td>\n",
       "      <td>190</td>\n",
       "      <td>0</td>\n",
       "    </tr>\n",
       "    <tr>\n",
       "      <th>187</th>\n",
       "      <td>Sunkern</td>\n",
       "      <td>180</td>\n",
       "      <td>0</td>\n",
       "    </tr>\n",
       "  </tbody>\n",
       "</table>\n",
       "<p>700 rows × 3 columns</p>\n",
       "</div>"
      ],
      "text/plain": [
       "          Name  Total  Legendary\n",
       "481     Arceus    720          1\n",
       "147     Mewtwo    680          1\n",
       "474     Dialga    680          1\n",
       "628     Zekrom    680          1\n",
       "627   Reshiram    680          1\n",
       "..         ...    ...        ...\n",
       "9     Caterpie    195          0\n",
       "261    Wurmple    195          0\n",
       "394  Kricketot    194          0\n",
       "294    Azurill    190          0\n",
       "187    Sunkern    180          0\n",
       "\n",
       "[700 rows x 3 columns]"
      ]
     },
     "execution_count": 155,
     "metadata": {},
     "output_type": "execute_result"
    }
   ],
   "source": [
    "# Que pokemones tienen los mayores stats\n",
    "df[['Name','Total','Legendary']].sort_values(by='Total', ascending=False)"
   ]
  },
  {
   "cell_type": "code",
   "execution_count": 156,
   "id": "c546efba",
   "metadata": {},
   "outputs": [
    {
     "data": {
      "application/vnd.microsoft.datawrangler.viewer.v0+json": {
       "columns": [
        {
         "name": "index",
         "rawType": "int64",
         "type": "integer"
        },
        {
         "name": "Name",
         "rawType": "object",
         "type": "string"
        },
        {
         "name": "Total",
         "rawType": "int64",
         "type": "integer"
        },
        {
         "name": "Type 1",
         "rawType": "object",
         "type": "string"
        },
        {
         "name": "Type 2",
         "rawType": "object",
         "type": "unknown"
        }
       ],
       "ref": "d733b985-b7e2-435d-b1f7-77b9fb4320d7",
       "rows": [
        [
         "285",
         "Slaking",
         "670",
         "Normal",
         null
        ],
        [
         "146",
         "Dragonite",
         "600",
         "Dragon",
         "Flying"
        ],
        [
         "148",
         "Mew",
         "600",
         "Psychic",
         null
        ],
        [
         "244",
         "Tyranitar",
         "600",
         "Rock",
         "Dark"
        ],
        [
         "247",
         "Celebi",
         "600",
         "Psychic",
         "Grass"
        ],
        [
         "367",
         "Salamence",
         "600",
         "Dragon",
         "Flying"
        ],
        [
         "370",
         "Metagross",
         "600",
         "Steel",
         "Psychic"
        ],
        [
         "438",
         "Garchomp",
         "600",
         "Dragon",
         "Ground"
        ],
        [
         "477",
         "Cresselia",
         "600",
         "Psychic",
         null
        ],
        [
         "479",
         "Manaphy",
         "600",
         "Water",
         null
        ],
        [
         "621",
         "Hydreigon",
         "600",
         "Dark",
         "Dragon"
        ],
        [
         "630",
         "Genesect",
         "600",
         "Bug",
         "Steel"
        ],
        [
         "687",
         "Goodra",
         "600",
         "Dragon",
         null
        ]
       ],
       "shape": {
        "columns": 4,
        "rows": 13
       }
      },
      "text/html": [
       "<div>\n",
       "<style scoped>\n",
       "    .dataframe tbody tr th:only-of-type {\n",
       "        vertical-align: middle;\n",
       "    }\n",
       "\n",
       "    .dataframe tbody tr th {\n",
       "        vertical-align: top;\n",
       "    }\n",
       "\n",
       "    .dataframe thead th {\n",
       "        text-align: right;\n",
       "    }\n",
       "</style>\n",
       "<table border=\"1\" class=\"dataframe\">\n",
       "  <thead>\n",
       "    <tr style=\"text-align: right;\">\n",
       "      <th></th>\n",
       "      <th>Name</th>\n",
       "      <th>Total</th>\n",
       "      <th>Type 1</th>\n",
       "      <th>Type 2</th>\n",
       "    </tr>\n",
       "  </thead>\n",
       "  <tbody>\n",
       "    <tr>\n",
       "      <th>285</th>\n",
       "      <td>Slaking</td>\n",
       "      <td>670</td>\n",
       "      <td>Normal</td>\n",
       "      <td>NaN</td>\n",
       "    </tr>\n",
       "    <tr>\n",
       "      <th>146</th>\n",
       "      <td>Dragonite</td>\n",
       "      <td>600</td>\n",
       "      <td>Dragon</td>\n",
       "      <td>Flying</td>\n",
       "    </tr>\n",
       "    <tr>\n",
       "      <th>148</th>\n",
       "      <td>Mew</td>\n",
       "      <td>600</td>\n",
       "      <td>Psychic</td>\n",
       "      <td>NaN</td>\n",
       "    </tr>\n",
       "    <tr>\n",
       "      <th>244</th>\n",
       "      <td>Tyranitar</td>\n",
       "      <td>600</td>\n",
       "      <td>Rock</td>\n",
       "      <td>Dark</td>\n",
       "    </tr>\n",
       "    <tr>\n",
       "      <th>247</th>\n",
       "      <td>Celebi</td>\n",
       "      <td>600</td>\n",
       "      <td>Psychic</td>\n",
       "      <td>Grass</td>\n",
       "    </tr>\n",
       "    <tr>\n",
       "      <th>367</th>\n",
       "      <td>Salamence</td>\n",
       "      <td>600</td>\n",
       "      <td>Dragon</td>\n",
       "      <td>Flying</td>\n",
       "    </tr>\n",
       "    <tr>\n",
       "      <th>370</th>\n",
       "      <td>Metagross</td>\n",
       "      <td>600</td>\n",
       "      <td>Steel</td>\n",
       "      <td>Psychic</td>\n",
       "    </tr>\n",
       "    <tr>\n",
       "      <th>438</th>\n",
       "      <td>Garchomp</td>\n",
       "      <td>600</td>\n",
       "      <td>Dragon</td>\n",
       "      <td>Ground</td>\n",
       "    </tr>\n",
       "    <tr>\n",
       "      <th>477</th>\n",
       "      <td>Cresselia</td>\n",
       "      <td>600</td>\n",
       "      <td>Psychic</td>\n",
       "      <td>NaN</td>\n",
       "    </tr>\n",
       "    <tr>\n",
       "      <th>479</th>\n",
       "      <td>Manaphy</td>\n",
       "      <td>600</td>\n",
       "      <td>Water</td>\n",
       "      <td>NaN</td>\n",
       "    </tr>\n",
       "    <tr>\n",
       "      <th>621</th>\n",
       "      <td>Hydreigon</td>\n",
       "      <td>600</td>\n",
       "      <td>Dark</td>\n",
       "      <td>Dragon</td>\n",
       "    </tr>\n",
       "    <tr>\n",
       "      <th>630</th>\n",
       "      <td>Genesect</td>\n",
       "      <td>600</td>\n",
       "      <td>Bug</td>\n",
       "      <td>Steel</td>\n",
       "    </tr>\n",
       "    <tr>\n",
       "      <th>687</th>\n",
       "      <td>Goodra</td>\n",
       "      <td>600</td>\n",
       "      <td>Dragon</td>\n",
       "      <td>NaN</td>\n",
       "    </tr>\n",
       "  </tbody>\n",
       "</table>\n",
       "</div>"
      ],
      "text/plain": [
       "          Name  Total   Type 1   Type 2\n",
       "285    Slaking    670   Normal      NaN\n",
       "146  Dragonite    600   Dragon   Flying\n",
       "148        Mew    600  Psychic      NaN\n",
       "244  Tyranitar    600     Rock     Dark\n",
       "247     Celebi    600  Psychic    Grass\n",
       "367  Salamence    600   Dragon   Flying\n",
       "370  Metagross    600    Steel  Psychic\n",
       "438   Garchomp    600   Dragon   Ground\n",
       "477  Cresselia    600  Psychic      NaN\n",
       "479    Manaphy    600    Water      NaN\n",
       "621  Hydreigon    600     Dark   Dragon\n",
       "630   Genesect    600      Bug    Steel\n",
       "687     Goodra    600   Dragon      NaN"
      ]
     },
     "execution_count": 156,
     "metadata": {},
     "output_type": "execute_result"
    }
   ],
   "source": [
    "# Pokemonos no legendarios con stats muy altos\n",
    "outliers = df[(df['Total'] > 570) & (df['Legendary'] == 0)]\n",
    "outliers[['Name', 'Total', 'Type 1', 'Type 2']].sort_values(by='Total', ascending=False)\n"
   ]
  },
  {
   "cell_type": "markdown",
   "id": "e00e882b",
   "metadata": {},
   "source": [
    "### Distribucion de tipos duales"
   ]
  },
  {
   "cell_type": "code",
   "execution_count": null,
   "id": "15fdca29",
   "metadata": {},
   "outputs": [
    {
     "name": "stdout",
     "output_type": "stream",
     "text": [
      "HasTwoTypes\n",
      "0    361\n",
      "1    339\n",
      "Name: count, dtype: int64\n"
     ]
    }
   ],
   "source": [
    "# Cuantos pokemones tienen dos tipos\n",
    "print(df['HasTwoTypes'].value_counts())\n"
   ]
  },
  {
   "cell_type": "code",
   "execution_count": null,
   "id": "1090431a",
   "metadata": {},
   "outputs": [
    {
     "name": "stdout",
     "output_type": "stream",
     "text": [
      "Proporción legendarios dual type: 0.58\n",
      "Proporción NO legendarios dual type: 0.48\n"
     ]
    }
   ],
   "source": [
    "# Proporción de pokemones legendarios con dos tipos\n",
    "dualtype_legendary = df[df['Legendary'] == 1]['HasTwoTypes'].mean()\n",
    "dualtype_no_legendary = df[df['Legendary'] == 0]['HasTwoTypes'].mean()\n",
    "print(f'Proporción legendarios dual type: {dualtype_legendary:.2f}')\n",
    "print(f'Proporción NO legendarios dual type: {dualtype_no_legendary:.2f}')\n"
   ]
  },
  {
   "cell_type": "code",
   "execution_count": 161,
   "id": "ff047ecf",
   "metadata": {},
   "outputs": [],
   "source": [
    "# Guardamos el DataFrame final en la carpeta data\n",
    "df.to_csv('data/Pokemon_cleaned.csv', index=False)"
   ]
  },
  {
   "cell_type": "markdown",
   "id": "819e29a7",
   "metadata": {},
   "source": [
    "## Conclusiones del Análisis Exploratorio de Datos (EDA) de Pokémon\n",
    "\n",
    "### 1. Distribución de Pokémon legendarios vs. no legendarios\n",
    "- El dataset contiene **700 Pokémon**, de los cuales **38 son legendarios** (~5.4%) y **662 no son legendarios**.\n",
    "- Existe un **fuerte desbalance de clases**, lo que hace recomendable el uso de técnicas de balanceo al entrenar modelos supervisados.\n",
    "\n",
    "### 2. Distribución de generaciones\n",
    "- Las generaciones **1 y 5** son las más numerosas (149 Pokémon cada una).\n",
    "- Las generaciones **2 a 6** tienen menor cantidad de Pokémon, siendo la **sexta generación la menos representada** (69).\n",
    "- La **proporción de legendarios** es mayor en las generaciones 3, 4 y 6.\n",
    "\n",
    "### 3. Tipos y combinaciones de tipo\n",
    "- El tipo más común es **Normal**, seguido de Water, Psychic, Grass y Electric.\n",
    "- **361 Pokémon** tienen un solo tipo y **339 tienen dos tipos**.\n",
    "- Los legendarios tienden a tener combinaciones de tipos menos frecuentes, como *Psychic / Fire*, *Steel / Fighting*, *Rock / Fighting*, entre otros.\n",
    "- El **58% de los legendarios** son dual-type, comparado con el **48% de los no legendarios**.\n",
    "\n",
    "### 4. Estadísticas base (stats)\n",
    "- Los stats presentan **distribuciones asimétricas**, con colas hacia valores altos.\n",
    "- Los legendarios destacan por tener **medianas y rangos superiores en todos los stats**, especialmente en el stat 'Total'.\n",
    "- Los boxplots muestran que los stats de los legendarios están concentrados en valores altos y con menor dispersión, mientras que los no legendarios tienen mayor variabilidad y outliers.\n",
    "\n",
    "### 5. Correlación entre stats\n",
    "- Existe **correlación positiva** moderada entre los diferentes stats.\n",
    "- El stat 'Total' tiene **alta correlación** con todos los stats individuales, como es de esperarse.\n",
    "\n",
    "### 6. Outliers y casos especiales\n",
    "- Los legendarios tienen stats consistentemente altos (Total > 600 en la mayoría).\n",
    "- Existen **Pokémon no legendarios con stats muy altos** (como Slaking, Dragonite, Tyranitar, Salamence, Metagross, Garchomp).\n",
    "\n",
    "### 7. Insights adicionales\n",
    "- Los tipos legendarios más comunes son **Psychic** (solo o combinado), seguido de combinaciones como *Dragon / Psychic* y *Fire / Flying*.\n",
    "- La dualidad de tipo y la combinación de stats altos son rasgos frecuentes en legendarios, pero no exclusivos.\n",
    "- No se detectaron valores nulos problemáticos en las columnas analizadas, salvo los tipos secundarios en Pokémon de un solo tipo.\n",
    "\n",
    "### 8. Recomendaciones para modelado\n",
    "- Considerar el fuerte desbalance de clases y la presencia de outliers.\n",
    "- No depender únicamente del stat 'Total', sino explorar el aporte de cada stat individual y otros features como tipo, generación y dualidad de tipo.\n",
    "\n"
   ]
  }
 ],
 "metadata": {
  "kernelspec": {
   "display_name": "Python 3",
   "language": "python",
   "name": "python3"
  },
  "language_info": {
   "codemirror_mode": {
    "name": "ipython",
    "version": 3
   },
   "file_extension": ".py",
   "mimetype": "text/x-python",
   "name": "python",
   "nbconvert_exporter": "python",
   "pygments_lexer": "ipython3",
   "version": "3.11.3"
  }
 },
 "nbformat": 4,
 "nbformat_minor": 5
}
